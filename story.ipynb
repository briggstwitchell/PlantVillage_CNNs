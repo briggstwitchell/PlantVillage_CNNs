{
 "cells": [
  {
   "cell_type": "markdown",
   "metadata": {},
   "source": []
  },
  {
   "cell_type": "markdown",
   "metadata": {},
   "source": [
    "## Agricultural productivity is important\n",
    "\n",
    "It correlates with a reduction in poverty (likely contributes to this reduction)\n",
    "\n",
    "<img src=\"imgs/cereal-yield-vs-extreme-poverty-scatter.png\" alt=\"cereal-yield-vs-extreme-poverty-scatter\" width=\"600\"/>\n",
    "\n",
    "[source](https://ourworldindata.org/grapher/cereal-yield-vs-extreme-poverty-scatter)\n",
    "\n",
    "\n",
    "It promotes biodiversity via reduced land use\n",
    "\n",
    "<img src=\"imgs/cereal-land-spared.png\" alt=\"cereal-land-spared\" width=\"600\"/>\n",
    "\n",
    "[source](https://ourworldindata.org/yields-vs-land-use-how-has-the-world-produced-enough-food-for-a-growing-population)\n"
   ]
  },
  {
   "cell_type": "markdown",
   "metadata": {},
   "source": [
    "## Agricultural productivity has improved, but mostly in rich nations:\n",
    "\n",
    "<img src=\"imgs/global-food.png\" alt=\"global-food\" width=\"600\"/>\n",
    "\n",
    "[source](https://ourworldindata.org/africa-yields-problem)\n",
    "\n",
    "## Africa's increased agricultural output is largely attributable to increased land use, not increased productivity\n",
    "\n",
    "<img src=\"imgs/Cereal-yields-vs.-land-use-–-Marimekko.png\" alt=\"Cereal-yields-vs.-land-use\" width=\"600\"/>\n",
    "\n",
    "[source](https://ourworldindata.org/africa-yields-problem)\n",
    "\n",
    "## Africa is expected to experience almost all of the world's population growth in the next century (from ~1 to ~4 billion)\n",
    "\n",
    "<img src=\"imgs/population-regions-with-projections.png\" alt=\"population-regions-with-projections\" width=\"600\"/>\n",
    "\n",
    "[source](https://ourworldindata.org/region-population-2100)\n",
    "\n",
    "## This threatens Africa's wealth of biodiversity\n",
    "\n",
    "<img src=\"imgs/habitat-loss.png\" alt=\"habitat-loss\" width=\"600\"/>\n",
    "\n",
    "[source](https://ourworldindata.org/yields-habitat-loss)\n",
    "\n",
    "## Therefore, OurWorldInData.com has characterized it as one of the most important problems this century\n",
    "\n",
    "<img src=\"imgs/owd-headline-africa-yields.png\" alt=\"owd-headline-africa-yields\" width=\"600\"/>\n",
    "\n",
    "Article: https://ourworldindata.org/africa-yields-problem"
   ]
  },
  {
   "cell_type": "markdown",
   "metadata": {},
   "source": [
    "## Why hasn't Africa experienced gains in productivity?\n",
    "\n",
    "#### There are many factors that determine crop yields:\n",
    "\n",
    "\"Poor infrastructure, high transport costs, limited investment in irrigation, and pricing and marketing policies that penalized farmers made the Green Revolution technologies too expensive or inappropriate for much of Africa.\"\n",
    "    - Internation Food Policy Research Institute\n",
    "\n",
    "Source: https://ebrary.ifpri.org/utils/getfile/collection/p15738coll2/id/64639/filename/64640.pdf\n",
    "\n",
    "---\n",
    "\n",
    "Technology has been a key contributor to increased yields. 'Precision farming' will play an increasingly important role as we attempt to continue to increase yield productivity while also accounting for environmental concerns such as carbon footprint and land use.\n",
    "\n",
    "Source: https://www.annualreviews.org/doi/abs/10.1146/annurev-resource-100518-093929\n",
    "\n",
    "\n",
    "Precision farming is something that could benefit the world with 20-40% of crops being lost to pests and plant disease.\n",
    "\n",
    "https://www.nature.com/articles/s41558-021-01124-4#:~:text=The%20Food%20and%20Agriculture%20Organization,production%20lost%20to%20pests3.\n",
    "\n"
   ]
  },
  {
   "cell_type": "markdown",
   "metadata": {},
   "source": [
    "Therefore, in focusing on the technology piece of this puzzle, my project is focused on employing machine learning techniques to identify plant diseases\n",
    "\n",
    "[INSERT CODE AND RESULTS HERE]\n",
    "\n",
    "These technologies will have a lot to overcome, and there are many components that will all need to work together for their utility to be fully realized. The adoption of computer vision is already occuring for large scale farm equipment companies such as John Deere. And access to these technologies will depend on many other factors -- for example internet access ...\n",
    "\n",
    "However, if we're able to address some of those factors, then we can imagine a rural farmer in a developing country using a low-cost drone to capture images of his crops, send this data to an application, and then receive back information on where he can precisely spray fertilizer and pesticides."
   ]
  }
 ],
 "metadata": {
  "language_info": {
   "name": "python"
  }
 },
 "nbformat": 4,
 "nbformat_minor": 2
}
